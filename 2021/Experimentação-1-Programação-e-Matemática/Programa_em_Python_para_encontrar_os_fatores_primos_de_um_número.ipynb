{
  "nbformat": 4,
  "nbformat_minor": 0,
  "metadata": {
    "colab": {
      "name": "Programa em Python para encontrar os fatores primos de um número.ipynb",
      "provenance": [],
      "collapsed_sections": [],
      "include_colab_link": true
    },
    "kernelspec": {
      "name": "python3",
      "display_name": "Python 3"
    },
    "language_info": {
      "name": "python"
    }
  },
  "cells": [
    {
      "cell_type": "markdown",
      "metadata": {
        "id": "view-in-github",
        "colab_type": "text"
      },
      "source": [
        "<a href=\"https://colab.research.google.com/github/idcesares/Clube-de-STEM-IA-ESEM/blob/master/Programa_em_Python_para_encontrar_os_fatores_primos_de_um_n%C3%BAmero.ipynb\" target=\"_parent\"><img src=\"https://colab.research.google.com/assets/colab-badge.svg\" alt=\"Open In Colab\"/></a>"
      ]
    },
    {
      "cell_type": "markdown",
      "metadata": {
        "id": "U9pRy-I0SNhd"
      },
      "source": [
        "# Programa em Python para encontrar os fatores primos de um número\n",
        "\n"
      ]
    },
    {
      "cell_type": "markdown",
      "metadata": {
        "id": "51yLp7gpwtqa"
      },
      "source": [
        "## Avançando um pouco mais..."
      ]
    },
    {
      "cell_type": "markdown",
      "metadata": {
        "id": "yhlSsgmCSWd9"
      },
      "source": [
        "### Função para gerar números primos automaticamente"
      ]
    },
    {
      "cell_type": "code",
      "metadata": {
        "id": "AgRBdEUTKbF1"
      },
      "source": [
        "def gerar_primos(numero): # Recebe o número digitado\n",
        "  primos = [] # Cria uma lista vazia para armazenar os números primos\n",
        "  for num in range(2, numero + 1): # Loop 1: Para cada número entre 2 e numero digitado + 1 faça:\n",
        "   if num > 1: # Checa se o número é maior que 1\n",
        "     for i in range(2, num): # Loop 2: para cada i entre 2 e a variável num (Resultante do Loop acima) faça:\n",
        "       if (num % i) == 0: # Checa se o resto da divisão entre a variável num e i é igual a zero. Se sim, quebra o Loop, pois não é um número primo\n",
        "         break\n",
        "     else: # Se não, o número é considerado primo e é adicionado a lista de números primos\n",
        "      primos.append(num)\n",
        "  return primos # Retorna os número primos até o número digitado"
      ],
      "execution_count": 1,
      "outputs": []
    },
    {
      "cell_type": "markdown",
      "metadata": {
        "id": "6G481gQ8XFJR"
      },
      "source": [
        "### Função para fatorar um número"
      ]
    },
    {
      "cell_type": "code",
      "metadata": {
        "id": "zFKFw7UzXNeo"
      },
      "source": [
        "def fatorar_numero(numero, primos): # Recebe o número digitados e os números primos até aquele número\n",
        "  fatores = [] # Cria uma lista vazia para armazenar os fatores\n",
        "  for divisor in primos: # Loop: Para cada divisor na lista de números primos, faça:\n",
        "    while (numero % divisor) == 0: # Enquanto o resto da divisão entre o número digitado e o divisor primo for igual a zero, faça:\n",
        "        numero = numero / divisor # O número digitado será igual à divisão entre ele mesmo e o menor divisor primo\n",
        "        fatores.append(divisor) # Adiciona o divisor na lista de fatores\n",
        "  return fatores # Retorna os fatores do número digitado"
      ],
      "execution_count": 2,
      "outputs": []
    },
    {
      "cell_type": "markdown",
      "metadata": {
        "id": "kNHKRNjbSe3M"
      },
      "source": [
        "### Fatorar um número"
      ]
    },
    {
      "cell_type": "code",
      "metadata": {
        "id": "ubmBKnVqchKO"
      },
      "source": [
        "numero = int(input('Insira o número: ')) # Captura o número digitado pelo usuário\n",
        "primos = gerar_primos(numero) # Gera os números primos até o número digitado\n",
        "fatores = fatorar_numero(numero, primos) # Fatora o número digitado e insere em uma lista\n",
        "print(f'Os fatores do número {numero} são: {fatores}') # Exibe os fatores do número digitado"
      ],
      "execution_count": null,
      "outputs": []
    }
  ]
}