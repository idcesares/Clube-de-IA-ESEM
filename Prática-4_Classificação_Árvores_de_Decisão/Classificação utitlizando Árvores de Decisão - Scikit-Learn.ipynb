{
 "cells": [
  {
   "cell_type": "markdown",
   "metadata": {},
   "source": [
    "# Classificação com Árvores de Decisão no Scikit-Learn\n",
    "- Este notebook faz parte da atividades teóricas do clube de Inteligência Artificial da Escola Sesc de Ensino Médio;\n",
    "- Nesta atividade iremos aprender mais sobre algoritmos de Classificação utilizando árvores de Decisão em uma biblioteca muito utilizada para Machine Learning, a Scikit-Learn.\n",
    "\n",
    "## Scikit-Learn\n",
    "- A scikit-learn (originalmente scikits.learn) é uma biblioteca de aprendizado de máquina de código aberto para a linguagem de programação Python. Ela inclui vários algoritmos de classificação, regressão e agrupamento incluindo máquinas de vetores de suporte, florestas aleatórias, gradient boosting, k-means e DBSCAN, e é projetada para interagir com as bibliotecas Python numéricas e científicas NumPy e SciPy.\n",
    "\n",
    "https://scikit-learn.org/"
   ]
  },
  {
   "cell_type": "markdown",
   "metadata": {},
   "source": [
    "## 1. Preparando os dados"
   ]
  },
  {
   "cell_type": "markdown",
   "metadata": {},
   "source": [
    "### 1.1 Importando as bibliotecas principais"
   ]
  },
  {
   "cell_type": "code",
   "execution_count": 1,
   "metadata": {},
   "outputs": [],
   "source": [
    "import numpy as np\n",
    "import pandas as pd\n",
    "import matplotlib.pyplot as plt\n",
    "import warnings\n",
    "warnings.filterwarnings('ignore')"
   ]
  },
  {
   "cell_type": "markdown",
   "metadata": {},
   "source": [
    "**NumPy** é um pacote para a linguagem Python que suporta arrays e matrizes multidimensionais, possuindo uma larga coleção de funções matemáticas para trabalhar com estas estruturas. *Wikipédia*\n",
    "\n",
    "**Pandas** é uma biblioteca de software criada para a linguagem Python para manipulação e análise de dados. Em particular, oferece estruturas e operações para manipular tabelas numéricas e séries temporais. É software livre sob a licensa licença BSD. *Wikipédia*\n",
    "\n",
    "**Matplotlib** é uma biblioteca de software para criação de gráficos e visualizações de dados em geral, feita para a da linguagem de programação Python e sua extensão de matemática NumPy. Originalmente criada pelo biólogo e neurocientista americano John D. *Wikipédia*"
   ]
  },
  {
   "cell_type": "markdown",
   "metadata": {},
   "source": [
    "### 1.2 Importando  e visualizando o Dataset\n",
    "**Dataset** é uma coleção de dados (conjunto de dados) normalmente tabulados. Por cada elemento se indicam várias características. Cada coluna representa uma variável particular. Cada linha corresponde a um determinado membro do conjunto de dados em questão. Cada valor é conhecido como um dado."
   ]
  },
  {
   "cell_type": "markdown",
   "metadata": {},
   "source": [
    "#### Sobre o Dataset deste projeto\n",
    "\n",
    "**Diagnóstico de COVID-19 e seu espectro clínico**: https://www.kaggle.com/einsteindata4u/covid19\n",
    "\n",
    "Este conjunto de dados contém dados anônimos de pacientes atendidos no Hospital Israelita Albert Einstein, em São Paulo, Brasil, e que tiveram amostras coletadas para a realização do SARS-CoV-2 RT-PCR e exames laboratoriais adicionais durante uma visita ao hospital.\n",
    "\n",
    "Todos os dados foram tornados anônimos seguindo as melhores práticas e recomendações internacionais. Todos os dados clínicos foram padronizados para ter uma média de zero e um desvio padrão da unidade.\n",
    "\n",
    "**Objetivo:** Com base nos resultados dos testes laboratoriais comumente coletados para um caso suspeito de COVID-19 durante uma visita ao pronto-socorro, o modelo deverá prever a classificação do resultado do teste para SARS-Cov-2 como positivo ou negativo.\n",
    "\n",
    "**Link para o arquivo .csv do Dataset:** https://raw.githubusercontent.com/diogocortiz/Crash-Course-IA/master/ArvoreDecis%C3%A3o/dataset_einstein.csv"
   ]
  },
  {
   "cell_type": "markdown",
   "metadata": {},
   "source": [
    "#### Lendo o arquivo que contém os nossos dados e criando um Dataframe com o Pandas"
   ]
  },
  {
   "cell_type": "code",
   "execution_count": 2,
   "metadata": {},
   "outputs": [],
   "source": [
    "df = pd.read_csv('https://raw.githubusercontent.com/diogocortiz/Crash-Course-IA/master/ArvoreDecis%C3%A3o/dataset_einstein.csv', sep=\";\")"
   ]
  },
  {
   "cell_type": "markdown",
   "metadata": {},
   "source": [
    "#### Mostrando as 5 primeiras linhas do Dataframe"
   ]
  },
  {
   "cell_type": "code",
   "execution_count": 3,
   "metadata": {},
   "outputs": [
    {
     "data": {
      "text/html": [
       "<div>\n",
       "<style scoped>\n",
       "    .dataframe tbody tr th:only-of-type {\n",
       "        vertical-align: middle;\n",
       "    }\n",
       "\n",
       "    .dataframe tbody tr th {\n",
       "        vertical-align: top;\n",
       "    }\n",
       "\n",
       "    .dataframe thead th {\n",
       "        text-align: right;\n",
       "    }\n",
       "</style>\n",
       "<table border=\"1\" class=\"dataframe\">\n",
       "  <thead>\n",
       "    <tr style=\"text-align: right;\">\n",
       "      <th></th>\n",
       "      <th>Patient ID</th>\n",
       "      <th>Patient age quantile</th>\n",
       "      <th>SARS-Cov-2 exam result</th>\n",
       "      <th>Patient addmited to regular ward (1=yes. 0=no)</th>\n",
       "      <th>Patient addmited to semi-intensive unit (1=yes. 0=no)</th>\n",
       "      <th>Patient addmited to intensive care unit (1=yes. 0=no)</th>\n",
       "      <th>Hemoglobin</th>\n",
       "      <th>Leukocytes</th>\n",
       "      <th>Basophils</th>\n",
       "      <th>Proteina C reativa mg/dL</th>\n",
       "      <th>Creatinine</th>\n",
       "    </tr>\n",
       "  </thead>\n",
       "  <tbody>\n",
       "    <tr>\n",
       "      <th>0</th>\n",
       "      <td>44477f75e8169d2</td>\n",
       "      <td>13</td>\n",
       "      <td>negative</td>\n",
       "      <td>0</td>\n",
       "      <td>0</td>\n",
       "      <td>0</td>\n",
       "      <td>NaN</td>\n",
       "      <td>NaN</td>\n",
       "      <td>NaN</td>\n",
       "      <td>NaN</td>\n",
       "      <td>NaN</td>\n",
       "    </tr>\n",
       "    <tr>\n",
       "      <th>1</th>\n",
       "      <td>126e9dd13932f68</td>\n",
       "      <td>17</td>\n",
       "      <td>negative</td>\n",
       "      <td>0</td>\n",
       "      <td>0</td>\n",
       "      <td>0</td>\n",
       "      <td>-0.02234</td>\n",
       "      <td>-0.09461</td>\n",
       "      <td>-0.223767</td>\n",
       "      <td>-0.147895</td>\n",
       "      <td>2.089928</td>\n",
       "    </tr>\n",
       "    <tr>\n",
       "      <th>2</th>\n",
       "      <td>a46b4402a0e5696</td>\n",
       "      <td>8</td>\n",
       "      <td>negative</td>\n",
       "      <td>0</td>\n",
       "      <td>0</td>\n",
       "      <td>0</td>\n",
       "      <td>NaN</td>\n",
       "      <td>NaN</td>\n",
       "      <td>NaN</td>\n",
       "      <td>NaN</td>\n",
       "      <td>NaN</td>\n",
       "    </tr>\n",
       "    <tr>\n",
       "      <th>3</th>\n",
       "      <td>f7d619a94f97c45</td>\n",
       "      <td>5</td>\n",
       "      <td>negative</td>\n",
       "      <td>0</td>\n",
       "      <td>0</td>\n",
       "      <td>0</td>\n",
       "      <td>NaN</td>\n",
       "      <td>NaN</td>\n",
       "      <td>NaN</td>\n",
       "      <td>NaN</td>\n",
       "      <td>NaN</td>\n",
       "    </tr>\n",
       "    <tr>\n",
       "      <th>4</th>\n",
       "      <td>d9e41465789c2b5</td>\n",
       "      <td>15</td>\n",
       "      <td>negative</td>\n",
       "      <td>0</td>\n",
       "      <td>0</td>\n",
       "      <td>0</td>\n",
       "      <td>NaN</td>\n",
       "      <td>NaN</td>\n",
       "      <td>NaN</td>\n",
       "      <td>NaN</td>\n",
       "      <td>NaN</td>\n",
       "    </tr>\n",
       "  </tbody>\n",
       "</table>\n",
       "</div>"
      ],
      "text/plain": [
       "        Patient ID  Patient age quantile SARS-Cov-2 exam result  \\\n",
       "0  44477f75e8169d2                    13               negative   \n",
       "1  126e9dd13932f68                    17               negative   \n",
       "2  a46b4402a0e5696                     8               negative   \n",
       "3  f7d619a94f97c45                     5               negative   \n",
       "4  d9e41465789c2b5                    15               negative   \n",
       "\n",
       "   Patient addmited to regular ward (1=yes. 0=no)  \\\n",
       "0                                               0   \n",
       "1                                               0   \n",
       "2                                               0   \n",
       "3                                               0   \n",
       "4                                               0   \n",
       "\n",
       "   Patient addmited to semi-intensive unit (1=yes. 0=no)  \\\n",
       "0                                                  0       \n",
       "1                                                  0       \n",
       "2                                                  0       \n",
       "3                                                  0       \n",
       "4                                                  0       \n",
       "\n",
       "   Patient addmited to intensive care unit (1=yes. 0=no)  Hemoglobin  \\\n",
       "0                                                  0             NaN   \n",
       "1                                                  0        -0.02234   \n",
       "2                                                  0             NaN   \n",
       "3                                                  0             NaN   \n",
       "4                                                  0             NaN   \n",
       "\n",
       "   Leukocytes  Basophils  Proteina C reativa mg/dL  Creatinine  \n",
       "0         NaN        NaN                       NaN         NaN  \n",
       "1    -0.09461  -0.223767                 -0.147895    2.089928  \n",
       "2         NaN        NaN                       NaN         NaN  \n",
       "3         NaN        NaN                       NaN         NaN  \n",
       "4         NaN        NaN                       NaN         NaN  "
      ]
     },
     "execution_count": 3,
     "metadata": {},
     "output_type": "execute_result"
    }
   ],
   "source": [
    "df.head(5)"
   ]
  },
  {
   "cell_type": "markdown",
   "metadata": {},
   "source": [
    "#### Mostrando as 5 últimas linhas do Dataframe"
   ]
  },
  {
   "cell_type": "code",
   "execution_count": 4,
   "metadata": {},
   "outputs": [
    {
     "data": {
      "text/html": [
       "<div>\n",
       "<style scoped>\n",
       "    .dataframe tbody tr th:only-of-type {\n",
       "        vertical-align: middle;\n",
       "    }\n",
       "\n",
       "    .dataframe tbody tr th {\n",
       "        vertical-align: top;\n",
       "    }\n",
       "\n",
       "    .dataframe thead th {\n",
       "        text-align: right;\n",
       "    }\n",
       "</style>\n",
       "<table border=\"1\" class=\"dataframe\">\n",
       "  <thead>\n",
       "    <tr style=\"text-align: right;\">\n",
       "      <th></th>\n",
       "      <th>Patient ID</th>\n",
       "      <th>Patient age quantile</th>\n",
       "      <th>SARS-Cov-2 exam result</th>\n",
       "      <th>Patient addmited to regular ward (1=yes. 0=no)</th>\n",
       "      <th>Patient addmited to semi-intensive unit (1=yes. 0=no)</th>\n",
       "      <th>Patient addmited to intensive care unit (1=yes. 0=no)</th>\n",
       "      <th>Hemoglobin</th>\n",
       "      <th>Leukocytes</th>\n",
       "      <th>Basophils</th>\n",
       "      <th>Proteina C reativa mg/dL</th>\n",
       "      <th>Creatinine</th>\n",
       "    </tr>\n",
       "  </thead>\n",
       "  <tbody>\n",
       "    <tr>\n",
       "      <th>5639</th>\n",
       "      <td>ae66feb9e4dc3a0</td>\n",
       "      <td>3</td>\n",
       "      <td>positive</td>\n",
       "      <td>0</td>\n",
       "      <td>0</td>\n",
       "      <td>0</td>\n",
       "      <td>NaN</td>\n",
       "      <td>NaN</td>\n",
       "      <td>NaN</td>\n",
       "      <td>NaN</td>\n",
       "      <td>NaN</td>\n",
       "    </tr>\n",
       "    <tr>\n",
       "      <th>5640</th>\n",
       "      <td>517c2834024f3ea</td>\n",
       "      <td>17</td>\n",
       "      <td>negative</td>\n",
       "      <td>0</td>\n",
       "      <td>0</td>\n",
       "      <td>0</td>\n",
       "      <td>NaN</td>\n",
       "      <td>NaN</td>\n",
       "      <td>NaN</td>\n",
       "      <td>NaN</td>\n",
       "      <td>NaN</td>\n",
       "    </tr>\n",
       "    <tr>\n",
       "      <th>5641</th>\n",
       "      <td>5c57d6037fe266d</td>\n",
       "      <td>4</td>\n",
       "      <td>negative</td>\n",
       "      <td>0</td>\n",
       "      <td>0</td>\n",
       "      <td>0</td>\n",
       "      <td>NaN</td>\n",
       "      <td>NaN</td>\n",
       "      <td>NaN</td>\n",
       "      <td>NaN</td>\n",
       "      <td>NaN</td>\n",
       "    </tr>\n",
       "    <tr>\n",
       "      <th>5642</th>\n",
       "      <td>c20c44766f28291</td>\n",
       "      <td>10</td>\n",
       "      <td>negative</td>\n",
       "      <td>0</td>\n",
       "      <td>0</td>\n",
       "      <td>0</td>\n",
       "      <td>NaN</td>\n",
       "      <td>NaN</td>\n",
       "      <td>NaN</td>\n",
       "      <td>NaN</td>\n",
       "      <td>NaN</td>\n",
       "    </tr>\n",
       "    <tr>\n",
       "      <th>5643</th>\n",
       "      <td>2697fdccbfeb7f7</td>\n",
       "      <td>19</td>\n",
       "      <td>positive</td>\n",
       "      <td>0</td>\n",
       "      <td>0</td>\n",
       "      <td>0</td>\n",
       "      <td>0.541564</td>\n",
       "      <td>-1.288428</td>\n",
       "      <td>-1.140144</td>\n",
       "      <td>-0.50357</td>\n",
       "      <td>-0.735872</td>\n",
       "    </tr>\n",
       "  </tbody>\n",
       "</table>\n",
       "</div>"
      ],
      "text/plain": [
       "           Patient ID  Patient age quantile SARS-Cov-2 exam result  \\\n",
       "5639  ae66feb9e4dc3a0                     3               positive   \n",
       "5640  517c2834024f3ea                    17               negative   \n",
       "5641  5c57d6037fe266d                     4               negative   \n",
       "5642  c20c44766f28291                    10               negative   \n",
       "5643  2697fdccbfeb7f7                    19               positive   \n",
       "\n",
       "      Patient addmited to regular ward (1=yes. 0=no)  \\\n",
       "5639                                               0   \n",
       "5640                                               0   \n",
       "5641                                               0   \n",
       "5642                                               0   \n",
       "5643                                               0   \n",
       "\n",
       "      Patient addmited to semi-intensive unit (1=yes. 0=no)  \\\n",
       "5639                                                  0       \n",
       "5640                                                  0       \n",
       "5641                                                  0       \n",
       "5642                                                  0       \n",
       "5643                                                  0       \n",
       "\n",
       "      Patient addmited to intensive care unit (1=yes. 0=no)  Hemoglobin  \\\n",
       "5639                                                  0             NaN   \n",
       "5640                                                  0             NaN   \n",
       "5641                                                  0             NaN   \n",
       "5642                                                  0             NaN   \n",
       "5643                                                  0        0.541564   \n",
       "\n",
       "      Leukocytes  Basophils  Proteina C reativa mg/dL  Creatinine  \n",
       "5639         NaN        NaN                       NaN         NaN  \n",
       "5640         NaN        NaN                       NaN         NaN  \n",
       "5641         NaN        NaN                       NaN         NaN  \n",
       "5642         NaN        NaN                       NaN         NaN  \n",
       "5643   -1.288428  -1.140144                  -0.50357   -0.735872  "
      ]
     },
     "execution_count": 4,
     "metadata": {},
     "output_type": "execute_result"
    }
   ],
   "source": [
    "df.tail(5)"
   ]
  },
  {
   "cell_type": "markdown",
   "metadata": {},
   "source": [
    "#### Exibindo informações importantes do Dataframe"
   ]
  },
  {
   "cell_type": "code",
   "execution_count": 5,
   "metadata": {},
   "outputs": [
    {
     "data": {
      "text/html": [
       "<div>\n",
       "<style scoped>\n",
       "    .dataframe tbody tr th:only-of-type {\n",
       "        vertical-align: middle;\n",
       "    }\n",
       "\n",
       "    .dataframe tbody tr th {\n",
       "        vertical-align: top;\n",
       "    }\n",
       "\n",
       "    .dataframe thead th {\n",
       "        text-align: right;\n",
       "    }\n",
       "</style>\n",
       "<table border=\"1\" class=\"dataframe\">\n",
       "  <thead>\n",
       "    <tr style=\"text-align: right;\">\n",
       "      <th></th>\n",
       "      <th>Patient age quantile</th>\n",
       "      <th>Patient addmited to regular ward (1=yes. 0=no)</th>\n",
       "      <th>Patient addmited to semi-intensive unit (1=yes. 0=no)</th>\n",
       "      <th>Patient addmited to intensive care unit (1=yes. 0=no)</th>\n",
       "      <th>Hemoglobin</th>\n",
       "      <th>Leukocytes</th>\n",
       "      <th>Basophils</th>\n",
       "      <th>Proteina C reativa mg/dL</th>\n",
       "      <th>Creatinine</th>\n",
       "    </tr>\n",
       "  </thead>\n",
       "  <tbody>\n",
       "    <tr>\n",
       "      <th>count</th>\n",
       "      <td>5644.00</td>\n",
       "      <td>5644.00</td>\n",
       "      <td>5644.00</td>\n",
       "      <td>5644.00</td>\n",
       "      <td>603.00</td>\n",
       "      <td>602.00</td>\n",
       "      <td>602.00</td>\n",
       "      <td>506.00</td>\n",
       "      <td>424.00</td>\n",
       "    </tr>\n",
       "    <tr>\n",
       "      <th>mean</th>\n",
       "      <td>9.32</td>\n",
       "      <td>0.01</td>\n",
       "      <td>0.01</td>\n",
       "      <td>0.01</td>\n",
       "      <td>-0.00</td>\n",
       "      <td>0.00</td>\n",
       "      <td>-0.00</td>\n",
       "      <td>0.00</td>\n",
       "      <td>-0.00</td>\n",
       "    </tr>\n",
       "    <tr>\n",
       "      <th>std</th>\n",
       "      <td>5.78</td>\n",
       "      <td>0.12</td>\n",
       "      <td>0.09</td>\n",
       "      <td>0.08</td>\n",
       "      <td>1.00</td>\n",
       "      <td>1.00</td>\n",
       "      <td>1.00</td>\n",
       "      <td>1.00</td>\n",
       "      <td>1.00</td>\n",
       "    </tr>\n",
       "    <tr>\n",
       "      <th>min</th>\n",
       "      <td>0.00</td>\n",
       "      <td>0.00</td>\n",
       "      <td>0.00</td>\n",
       "      <td>0.00</td>\n",
       "      <td>-4.35</td>\n",
       "      <td>-2.02</td>\n",
       "      <td>-1.14</td>\n",
       "      <td>-0.54</td>\n",
       "      <td>-2.39</td>\n",
       "    </tr>\n",
       "    <tr>\n",
       "      <th>25%</th>\n",
       "      <td>4.00</td>\n",
       "      <td>0.00</td>\n",
       "      <td>0.00</td>\n",
       "      <td>0.00</td>\n",
       "      <td>-0.59</td>\n",
       "      <td>-0.64</td>\n",
       "      <td>-0.53</td>\n",
       "      <td>-0.51</td>\n",
       "      <td>-0.63</td>\n",
       "    </tr>\n",
       "    <tr>\n",
       "      <th>50%</th>\n",
       "      <td>9.00</td>\n",
       "      <td>0.00</td>\n",
       "      <td>0.00</td>\n",
       "      <td>0.00</td>\n",
       "      <td>0.04</td>\n",
       "      <td>-0.21</td>\n",
       "      <td>-0.22</td>\n",
       "      <td>-0.39</td>\n",
       "      <td>-0.08</td>\n",
       "    </tr>\n",
       "    <tr>\n",
       "      <th>75%</th>\n",
       "      <td>14.00</td>\n",
       "      <td>0.00</td>\n",
       "      <td>0.00</td>\n",
       "      <td>0.00</td>\n",
       "      <td>0.73</td>\n",
       "      <td>0.45</td>\n",
       "      <td>0.39</td>\n",
       "      <td>0.03</td>\n",
       "      <td>0.51</td>\n",
       "    </tr>\n",
       "    <tr>\n",
       "      <th>max</th>\n",
       "      <td>19.00</td>\n",
       "      <td>1.00</td>\n",
       "      <td>1.00</td>\n",
       "      <td>1.00</td>\n",
       "      <td>2.67</td>\n",
       "      <td>4.52</td>\n",
       "      <td>11.08</td>\n",
       "      <td>8.03</td>\n",
       "      <td>5.05</td>\n",
       "    </tr>\n",
       "  </tbody>\n",
       "</table>\n",
       "</div>"
      ],
      "text/plain": [
       "       Patient age quantile  Patient addmited to regular ward (1=yes. 0=no)  \\\n",
       "count               5644.00                                         5644.00   \n",
       "mean                   9.32                                            0.01   \n",
       "std                    5.78                                            0.12   \n",
       "min                    0.00                                            0.00   \n",
       "25%                    4.00                                            0.00   \n",
       "50%                    9.00                                            0.00   \n",
       "75%                   14.00                                            0.00   \n",
       "max                   19.00                                            1.00   \n",
       "\n",
       "       Patient addmited to semi-intensive unit (1=yes. 0=no)  \\\n",
       "count                                            5644.00       \n",
       "mean                                                0.01       \n",
       "std                                                 0.09       \n",
       "min                                                 0.00       \n",
       "25%                                                 0.00       \n",
       "50%                                                 0.00       \n",
       "75%                                                 0.00       \n",
       "max                                                 1.00       \n",
       "\n",
       "       Patient addmited to intensive care unit (1=yes. 0=no)  Hemoglobin  \\\n",
       "count                                            5644.00          603.00   \n",
       "mean                                                0.01           -0.00   \n",
       "std                                                 0.08            1.00   \n",
       "min                                                 0.00           -4.35   \n",
       "25%                                                 0.00           -0.59   \n",
       "50%                                                 0.00            0.04   \n",
       "75%                                                 0.00            0.73   \n",
       "max                                                 1.00            2.67   \n",
       "\n",
       "       Leukocytes  Basophils  Proteina C reativa mg/dL  Creatinine  \n",
       "count      602.00     602.00                    506.00      424.00  \n",
       "mean         0.00      -0.00                      0.00       -0.00  \n",
       "std          1.00       1.00                      1.00        1.00  \n",
       "min         -2.02      -1.14                     -0.54       -2.39  \n",
       "25%         -0.64      -0.53                     -0.51       -0.63  \n",
       "50%         -0.21      -0.22                     -0.39       -0.08  \n",
       "75%          0.45       0.39                      0.03        0.51  \n",
       "max          4.52      11.08                      8.03        5.05  "
      ]
     },
     "execution_count": 5,
     "metadata": {},
     "output_type": "execute_result"
    }
   ],
   "source": [
    "df.describe().round(2) # Resume e descreve algumas operações gerais do Dataset. Round(2) arredonda para 2 casas decimais."
   ]
  },
  {
   "cell_type": "code",
   "execution_count": 6,
   "metadata": {},
   "outputs": [
    {
     "name": "stdout",
     "output_type": "stream",
     "text": [
      "Tamanho do Dataframe: 5644 linhas e 11 colunas\n"
     ]
    }
   ],
   "source": [
    "print(f'Tamanho do Dataframe: {df.shape[0]} linhas e {df.shape[1]} colunas') # Descreve o tamanho do dataframe em uma tupla"
   ]
  },
  {
   "cell_type": "code",
   "execution_count": 7,
   "metadata": {},
   "outputs": [
    {
     "name": "stdout",
     "output_type": "stream",
     "text": [
      "<class 'pandas.core.frame.DataFrame'>\n",
      "RangeIndex: 5644 entries, 0 to 5643\n",
      "Data columns (total 11 columns):\n",
      " #   Column                                                 Non-Null Count  Dtype  \n",
      "---  ------                                                 --------------  -----  \n",
      " 0   Patient ID                                             5644 non-null   object \n",
      " 1   Patient age quantile                                   5644 non-null   int64  \n",
      " 2   SARS-Cov-2 exam result                                 5644 non-null   object \n",
      " 3   Patient addmited to regular ward (1=yes. 0=no)         5644 non-null   int64  \n",
      " 4   Patient addmited to semi-intensive unit (1=yes. 0=no)  5644 non-null   int64  \n",
      " 5   Patient addmited to intensive care unit (1=yes. 0=no)  5644 non-null   int64  \n",
      " 6   Hemoglobin                                             603 non-null    float64\n",
      " 7   Leukocytes                                             602 non-null    float64\n",
      " 8   Basophils                                              602 non-null    float64\n",
      " 9   Proteina C reativa mg/dL                               506 non-null    float64\n",
      " 10  Creatinine                                             424 non-null    float64\n",
      "dtypes: float64(5), int64(4), object(2)\n",
      "memory usage: 485.2+ KB\n"
     ]
    }
   ],
   "source": [
    "df.info() # Descreve informaçoes de tamanho e de tipo das características"
   ]
  },
  {
   "cell_type": "markdown",
   "metadata": {},
   "source": [
    "#### Removendo os valores em branco (NaN)\n",
    "Removemos esses valores para evitar ruídos e distorções em nosso modelo"
   ]
  },
  {
   "cell_type": "code",
   "execution_count": 8,
   "metadata": {},
   "outputs": [
    {
     "name": "stdout",
     "output_type": "stream",
     "text": [
      "Dataset com valores em branco: 5644\n",
      "Dataset sem valores em branco: 357\n"
     ]
    }
   ],
   "source": [
    "print(f'Dataset com valores em branco: {df.shape[0]}')\n",
    "print(f'Dataset sem valores em branco: {df.dropna().shape[0]}')"
   ]
  },
  {
   "cell_type": "code",
   "execution_count": 9,
   "metadata": {},
   "outputs": [],
   "source": [
    "df = df.dropna()"
   ]
  },
  {
   "cell_type": "markdown",
   "metadata": {},
   "source": [
    "#### O nosso dataset está balanceado ou desbalanecado?"
   ]
  },
  {
   "cell_type": "code",
   "execution_count": 10,
   "metadata": {},
   "outputs": [
    {
     "name": "stdout",
     "output_type": "stream",
     "text": [
      "Total de registros negativos:  302\n",
      "Total de registros positivos:  55\n"
     ]
    }
   ],
   "source": [
    "print ('Total de registros negativos: ', df[df['SARS-Cov-2 exam result'] =='negative'].shape[0])\n",
    "print ('Total de registros positivos: ', df[df['SARS-Cov-2 exam result'] =='positive'].shape[0])"
   ]
  },
  {
   "cell_type": "markdown",
   "metadata": {},
   "source": [
    "### 1.3 Selecionando as características principais para o estudo"
   ]
  },
  {
   "cell_type": "markdown",
   "metadata": {},
   "source": [
    "**Qual coluna utilizaremos para realizar nosso experimento?**\n",
    "Quais serão variáveis independentes?\n",
    "Qual será a variável dependente?"
   ]
  },
  {
   "cell_type": "code",
   "execution_count": 11,
   "metadata": {},
   "outputs": [
    {
     "data": {
      "text/html": [
       "<div>\n",
       "<style scoped>\n",
       "    .dataframe tbody tr th:only-of-type {\n",
       "        vertical-align: middle;\n",
       "    }\n",
       "\n",
       "    .dataframe tbody tr th {\n",
       "        vertical-align: top;\n",
       "    }\n",
       "\n",
       "    .dataframe thead th {\n",
       "        text-align: right;\n",
       "    }\n",
       "</style>\n",
       "<table border=\"1\" class=\"dataframe\">\n",
       "  <thead>\n",
       "    <tr style=\"text-align: right;\">\n",
       "      <th></th>\n",
       "      <th>Patient ID</th>\n",
       "      <th>Patient age quantile</th>\n",
       "      <th>SARS-Cov-2 exam result</th>\n",
       "      <th>Patient addmited to regular ward (1=yes. 0=no)</th>\n",
       "      <th>Patient addmited to semi-intensive unit (1=yes. 0=no)</th>\n",
       "      <th>Patient addmited to intensive care unit (1=yes. 0=no)</th>\n",
       "      <th>Hemoglobin</th>\n",
       "      <th>Leukocytes</th>\n",
       "      <th>Basophils</th>\n",
       "      <th>Proteina C reativa mg/dL</th>\n",
       "      <th>Creatinine</th>\n",
       "    </tr>\n",
       "  </thead>\n",
       "  <tbody>\n",
       "    <tr>\n",
       "      <th>1</th>\n",
       "      <td>126e9dd13932f68</td>\n",
       "      <td>17</td>\n",
       "      <td>negative</td>\n",
       "      <td>0</td>\n",
       "      <td>0</td>\n",
       "      <td>0</td>\n",
       "      <td>-0.022340</td>\n",
       "      <td>-0.09461</td>\n",
       "      <td>-0.223767</td>\n",
       "      <td>-0.147895</td>\n",
       "      <td>2.089928</td>\n",
       "    </tr>\n",
       "    <tr>\n",
       "      <th>8</th>\n",
       "      <td>8bb9d64f0215244</td>\n",
       "      <td>1</td>\n",
       "      <td>negative</td>\n",
       "      <td>0</td>\n",
       "      <td>1</td>\n",
       "      <td>0</td>\n",
       "      <td>-0.774212</td>\n",
       "      <td>0.36455</td>\n",
       "      <td>-0.223767</td>\n",
       "      <td>-0.286986</td>\n",
       "      <td>-1.838623</td>\n",
       "    </tr>\n",
       "  </tbody>\n",
       "</table>\n",
       "</div>"
      ],
      "text/plain": [
       "        Patient ID  Patient age quantile SARS-Cov-2 exam result  \\\n",
       "1  126e9dd13932f68                    17               negative   \n",
       "8  8bb9d64f0215244                     1               negative   \n",
       "\n",
       "   Patient addmited to regular ward (1=yes. 0=no)  \\\n",
       "1                                               0   \n",
       "8                                               0   \n",
       "\n",
       "   Patient addmited to semi-intensive unit (1=yes. 0=no)  \\\n",
       "1                                                  0       \n",
       "8                                                  1       \n",
       "\n",
       "   Patient addmited to intensive care unit (1=yes. 0=no)  Hemoglobin  \\\n",
       "1                                                  0       -0.022340   \n",
       "8                                                  0       -0.774212   \n",
       "\n",
       "   Leukocytes  Basophils  Proteina C reativa mg/dL  Creatinine  \n",
       "1    -0.09461  -0.223767                 -0.147895    2.089928  \n",
       "8     0.36455  -0.223767                 -0.286986   -1.838623  "
      ]
     },
     "execution_count": 11,
     "metadata": {},
     "output_type": "execute_result"
    }
   ],
   "source": [
    "df.head(2)"
   ]
  },
  {
   "cell_type": "markdown",
   "metadata": {},
   "source": [
    "#### Selecionando as etiquetas (y)"
   ]
  },
  {
   "cell_type": "code",
   "execution_count": 12,
   "metadata": {},
   "outputs": [
    {
     "data": {
      "text/plain": [
       "array(['negative', 'negative', 'negative', 'negative', 'negative'],\n",
       "      dtype=object)"
      ]
     },
     "execution_count": 12,
     "metadata": {},
     "output_type": "execute_result"
    }
   ],
   "source": [
    "y = df['SARS-Cov-2 exam result'].values \n",
    "y[:5]"
   ]
  },
  {
   "cell_type": "markdown",
   "metadata": {},
   "source": [
    "#### Selecionando as características (X)"
   ]
  },
  {
   "cell_type": "code",
   "execution_count": 13,
   "metadata": {},
   "outputs": [
    {
     "data": {
      "text/plain": [
       "array([[-0.02234027, -0.09461035, -0.22376651, -0.14789495],\n",
       "       [-0.774212  ,  0.36455047, -0.22376651, -0.28698576],\n",
       "       [ 0.85484386, -0.07513076,  2.52536511, -0.4340246 ],\n",
       "       [ 0.85484386,  0.10575075, -0.52922559, -0.52940118],\n",
       "       [-0.71155578, -0.28662303, -0.22376651,  0.54557222]])"
      ]
     },
     "execution_count": 13,
     "metadata": {},
     "output_type": "execute_result"
    }
   ],
   "source": [
    "X = df[['Hemoglobin', 'Leukocytes', 'Basophils','Proteina C reativa mg/dL']].values\n",
    "X[:5]"
   ]
  },
  {
   "cell_type": "markdown",
   "metadata": {},
   "source": [
    "### 1.4 Criando os datasets de treino e de teste\n",
    "Usando Sklearn para escalar os dados.\n",
    "#### Importando o train_test_split da biblioteca scikit-learn\n",
    "A função train_test_split nos ajuda a dividir o dataset em treino e teste com base nos parâmetros definidos"
   ]
  },
  {
   "cell_type": "code",
   "execution_count": 14,
   "metadata": {},
   "outputs": [],
   "source": [
    "from sklearn.model_selection import train_test_split"
   ]
  },
  {
   "cell_type": "markdown",
   "metadata": {},
   "source": [
    "#### Utilizando a função train_test_split e inserindo os dados nas variáveis indicadas\n",
    "O test_size representa a proporção do dataset que será incluída na divisão de teste. Os valores pode ir de 0.0 a 1.0.\n",
    "\n",
    "O random_state garante que as divisões geradas sejam reproduzíveis. O Scikit-learn usa permutações aleatórias para gerar as divisões. O estado aleatório que você fornece é usado como uma semente (random seed) para o gerador de números aleatórios. Isso garante que os números aleatórios sejam gerados na mesma ordem."
   ]
  },
  {
   "cell_type": "code",
   "execution_count": 15,
   "metadata": {},
   "outputs": [],
   "source": [
    "X_train, X_test, y_train, y_test = train_test_split(X, y, test_size=0.3, random_state=42)"
   ]
  },
  {
   "cell_type": "markdown",
   "metadata": {},
   "source": [
    "## 2. Escolher um modelo"
   ]
  },
  {
   "cell_type": "markdown",
   "metadata": {},
   "source": [
    "<img src=\"https://scikit-learn.org/stable/_static/ml_map.png\"/>"
   ]
  },
  {
   "cell_type": "markdown",
   "metadata": {},
   "source": [
    "### 2.1 Árvores de Decisão\n",
    "Árvores de decisão (DTs) são um método de aprendizado supervisionado não paramétrico usado para classificação e regressão. O objetivo é criar um modelo que preveja o valor de uma variável de destino, aprendendo regras de decisão simples inferidas dos recursos de dados.\n",
    "\n",
    "<img src=\"https://scikit-learn.org/stable/_images/sphx_glr_plot_iris_dtc_0021.png\"/>\n",
    "\n",
    "Fontes: \n",
    "- https://scikit-learn.org/stable/modules/tree.htmls"
   ]
  },
  {
   "cell_type": "markdown",
   "metadata": {},
   "source": [
    "#### Importando o algoritmo DecisionTreeClassifier de classificação da biblioteca scikit-learn"
   ]
  },
  {
   "cell_type": "code",
   "execution_count": 27,
   "metadata": {},
   "outputs": [],
   "source": [
    "from sklearn.tree import DecisionTreeClassifier, export_text\n",
    "from sklearn import tree"
   ]
  },
  {
   "cell_type": "markdown",
   "metadata": {},
   "source": [
    "## 3. Ajustar os dados ao modelo e fazer a classificação"
   ]
  },
  {
   "cell_type": "markdown",
   "metadata": {},
   "source": [
    "### 3.1 Instanciar a classe DecisionTreeClassifier()\n",
    "\n",
    "<img src=\"http://jcsites.juniata.edu/faculty/rhodes/ida/images/weatherdectree.GIF\">"
   ]
  },
  {
   "cell_type": "code",
   "execution_count": 17,
   "metadata": {},
   "outputs": [],
   "source": [
    "modelo = DecisionTreeClassifier(criterion='entropy', max_depth=5)"
   ]
  },
  {
   "cell_type": "code",
   "execution_count": 18,
   "metadata": {},
   "outputs": [
    {
     "data": {
      "text/plain": [
       "{'ccp_alpha': 0.0,\n",
       " 'class_weight': None,\n",
       " 'criterion': 'entropy',\n",
       " 'max_depth': 5,\n",
       " 'max_features': None,\n",
       " 'max_leaf_nodes': None,\n",
       " 'min_impurity_decrease': 0.0,\n",
       " 'min_impurity_split': None,\n",
       " 'min_samples_leaf': 1,\n",
       " 'min_samples_split': 2,\n",
       " 'min_weight_fraction_leaf': 0.0,\n",
       " 'presort': 'deprecated',\n",
       " 'random_state': None,\n",
       " 'splitter': 'best'}"
      ]
     },
     "execution_count": 18,
     "metadata": {},
     "output_type": "execute_result"
    }
   ],
   "source": [
    "modelo.get_params()"
   ]
  },
  {
   "cell_type": "markdown",
   "metadata": {},
   "source": [
    "### 3.2 Utilizando o método .fit()\n",
    "O método .fit() do objeto modelo criado da classe DecisionTreeClassifier() treinará o nosso modelo e possibilitará a classificação."
   ]
  },
  {
   "cell_type": "code",
   "execution_count": 19,
   "metadata": {},
   "outputs": [
    {
     "data": {
      "text/plain": [
       "DecisionTreeClassifier(criterion='entropy', max_depth=5)"
      ]
     },
     "execution_count": 19,
     "metadata": {},
     "output_type": "execute_result"
    }
   ],
   "source": [
    "modelo.fit(X_train, y_train)"
   ]
  },
  {
   "cell_type": "markdown",
   "metadata": {},
   "source": [
    "### 3.3 Exibindo as principais características e imprimindo a árvore de decisão"
   ]
  },
  {
   "cell_type": "code",
   "execution_count": 20,
   "metadata": {},
   "outputs": [
    {
     "name": "stdout",
     "output_type": "stream",
     "text": [
      "[0.21080526 0.42553034 0.11397228 0.24969212]\n"
     ]
    },
    {
     "data": {
      "image/png": "[encoded data removed]",
      "text/plain": [
       "<Figure size 1080x1080 with 1 Axes>"
      ]
     },
     "metadata": {
      "needs_background": "light"
     },
     "output_type": "display_data"
    }
   ],
   "source": [
    "import graphviz\n",
    "print (modelo.feature_importances_)\n",
    "nome_features = ['Hemoglobin', 'Leukocytes', 'Basophils','Proteina C reativa mg/dL']\n",
    "nome_classes = modelo.classes_\n",
    "\n",
    "fig, ax = plt.subplots(figsize=(15, 15))\n",
    "tree.plot_tree(modelo,\n",
    "               feature_names=nome_features,\n",
    "               class_names=nome_classes,\n",
    "               filled=True,\n",
    "               max_depth=4,\n",
    "               fontsize=10)\n",
    "plt.show()"
   ]
  },
  {
   "cell_type": "code",
   "execution_count": 31,
   "metadata": {},
   "outputs": [
    {
     "name": "stdout",
     "output_type": "stream",
     "text": [
      "|--- Leukocytes <= -0.40\n",
      "|   |--- Basophils <= 0.23\n",
      "|   |   |--- Hemoglobin <= -0.68\n",
      "|   |   |   |--- Basophils <= -0.83\n",
      "|   |   |   |   |--- class: negative\n",
      "|   |   |   |--- Basophils >  -0.83\n",
      "|   |   |   |   |--- Proteina C reativa mg/dL <= 0.48\n",
      "|   |   |   |   |   |--- class: negative\n",
      "|   |   |   |   |--- Proteina C reativa mg/dL >  0.48\n",
      "|   |   |   |   |   |--- class: positive\n",
      "|   |   |--- Hemoglobin >  -0.68\n",
      "|   |   |   |--- Leukocytes <= -0.97\n",
      "|   |   |   |   |--- Leukocytes <= -1.48\n",
      "|   |   |   |   |   |--- class: negative\n",
      "|   |   |   |   |--- Leukocytes >  -1.48\n",
      "|   |   |   |   |   |--- class: positive\n",
      "|   |   |   |--- Leukocytes >  -0.97\n",
      "|   |   |   |   |--- Proteina C reativa mg/dL <= -0.36\n",
      "|   |   |   |   |   |--- class: negative\n",
      "|   |   |   |   |--- Proteina C reativa mg/dL >  -0.36\n",
      "|   |   |   |   |   |--- class: positive\n",
      "|   |--- Basophils >  0.23\n",
      "|   |   |--- Proteina C reativa mg/dL <= 1.29\n",
      "|   |   |   |--- Hemoglobin <= 0.85\n",
      "|   |   |   |   |--- Leukocytes <= -1.05\n",
      "|   |   |   |   |   |--- class: negative\n",
      "|   |   |   |   |--- Leukocytes >  -1.05\n",
      "|   |   |   |   |   |--- class: negative\n",
      "|   |   |   |--- Hemoglobin >  0.85\n",
      "|   |   |   |   |--- Leukocytes <= -0.90\n",
      "|   |   |   |   |   |--- class: negative\n",
      "|   |   |   |   |--- Leukocytes >  -0.90\n",
      "|   |   |   |   |   |--- class: negative\n",
      "|   |   |--- Proteina C reativa mg/dL >  1.29\n",
      "|   |   |   |--- class: positive\n",
      "|--- Leukocytes >  -0.40\n",
      "|   |--- Proteina C reativa mg/dL <= 2.56\n",
      "|   |   |--- Leukocytes <= 0.28\n",
      "|   |   |   |--- Basophils <= -0.38\n",
      "|   |   |   |   |--- Hemoglobin <= 0.48\n",
      "|   |   |   |   |   |--- class: negative\n",
      "|   |   |   |   |--- Hemoglobin >  0.48\n",
      "|   |   |   |   |   |--- class: negative\n",
      "|   |   |   |--- Basophils >  -0.38\n",
      "|   |   |   |   |--- Hemoglobin <= -0.93\n",
      "|   |   |   |   |   |--- class: negative\n",
      "|   |   |   |   |--- Hemoglobin >  -0.93\n",
      "|   |   |   |   |   |--- class: negative\n",
      "|   |   |--- Leukocytes >  0.28\n",
      "|   |   |   |--- class: negative\n",
      "|   |--- Proteina C reativa mg/dL >  2.56\n",
      "|   |   |--- Proteina C reativa mg/dL <= 4.12\n",
      "|   |   |   |--- class: positive\n",
      "|   |   |--- Proteina C reativa mg/dL >  4.12\n",
      "|   |   |   |--- class: negative\n",
      "\n"
     ]
    }
   ],
   "source": [
    "r = export_text(modelo, feature_names=nome_features)\n",
    "print(r)"
   ]
  },
  {
   "cell_type": "markdown",
   "metadata": {},
   "source": [
    "### 3.4 Fazendo as predições no dataset de teste"
   ]
  },
  {
   "cell_type": "code",
   "execution_count": 21,
   "metadata": {},
   "outputs": [],
   "source": [
    "y_preds = modelo.predict(X_test)"
   ]
  },
  {
   "cell_type": "code",
   "execution_count": 22,
   "metadata": {},
   "outputs": [
    {
     "data": {
      "text/plain": [
       "array([[-0.774212  , -0.89883721,  0.69261074, -0.52940118],\n",
       "       [ 1.60671556, -0.54542261,  0.3871516 , -0.33666104],\n",
       "       [-0.3356202 , -1.18824756,  0.3871516 , -0.11610276],\n",
       "       [ 1.91999543, -1.13815737,  0.3871516 , -0.47177783],\n",
       "       [-1.27546001, -0.26157784, -0.22376651, -0.4340246 ]])"
      ]
     },
     "execution_count": 22,
     "metadata": {},
     "output_type": "execute_result"
    }
   ],
   "source": [
    "X_test[:5]"
   ]
  },
  {
   "cell_type": "code",
   "execution_count": 23,
   "metadata": {},
   "outputs": [
    {
     "data": {
      "text/plain": [
       "array(['negative', 'negative', 'negative', 'negative', 'negative'],\n",
       "      dtype=object)"
      ]
     },
     "execution_count": 23,
     "metadata": {},
     "output_type": "execute_result"
    }
   ],
   "source": [
    "y_preds[:5]"
   ]
  },
  {
   "cell_type": "markdown",
   "metadata": {},
   "source": [
    "## 4. Avaliando o modelo\n"
   ]
  },
  {
   "cell_type": "markdown",
   "metadata": {},
   "source": [
    "#### Quais foram as características de maior importância no modelo?"
   ]
  },
  {
   "cell_type": "code",
   "execution_count": 24,
   "metadata": {},
   "outputs": [
    {
     "name": "stdout",
     "output_type": "stream",
     "text": [
      "Feature ranking:\n",
      "1. feature 1 (0.425530)\n",
      "2. feature 3 (0.249692)\n",
      "3. feature 0 (0.210805)\n",
      "4. feature 2 (0.113972)\n"
     ]
    },
    {
     "data": {
      "image/png": "[encoded data removed]",
      "text/plain": [
       "<Figure size 792x648 with 1 Axes>"
      ]
     },
     "metadata": {
      "needs_background": "light"
     },
     "output_type": "display_data"
    }
   ],
   "source": [
    "importances = modelo.feature_importances_\n",
    "indices = np.argsort(importances)[::-1]\n",
    "print(\"Feature ranking:\")\n",
    "\n",
    "for f in range(X.shape[1]):\n",
    "    print(\"%d. feature %d (%f)\" % (f + 1, indices[f], importances[indices[f]]))\n",
    "f, ax = plt.subplots(figsize=(11, 9))\n",
    "plt.title(\"Feature ranking\", fontsize = 20)\n",
    "plt.bar(range(X.shape[1]), importances[indices],\n",
    "    color=\"b\", \n",
    "    align=\"center\")\n",
    "plt.xticks(range(X.shape[1]), indices)\n",
    "plt.xlim([-1, X.shape[1]])\n",
    "plt.ylabel(\"importance\", fontsize = 18)\n",
    "plt.xlabel(\"index of the feature\", fontsize = 18)\n",
    "plt.show()\n",
    "\n",
    "#Indice das features\n",
    "# 0 - 'Hemoglobin', \n",
    "# 1 - 'Leukocytes'\n",
    "# 2 - 'Basophils',\n",
    "# 3 - 'Proteina C reativa mg/dL']"
   ]
  },
  {
   "cell_type": "code",
   "execution_count": 25,
   "metadata": {},
   "outputs": [
    {
     "name": "stdout",
     "output_type": "stream",
     "text": [
      "ACURÁCIA DA ÁRVORE:  0.8518518518518519\n"
     ]
    }
   ],
   "source": [
    "from sklearn.metrics import accuracy_score, classification_report\n",
    "print(\"ACURÁCIA DA ÁRVORE: \", accuracy_score(y_test, y_preds))"
   ]
  }
 ],
 "metadata": {
  "kernelspec": {
   "display_name": "Python 3",
   "language": "python",
   "name": "python3"
  },
  "language_info": {
   "codemirror_mode": {
    "name": "ipython",
    "version": 3
   },
   "file_extension": ".py",
   "mimetype": "text/x-python",
   "name": "python",
   "nbconvert_exporter": "python",
   "pygments_lexer": "ipython3",
   "version": "3.8.3"
  }
 },
 "nbformat": 4,
 "nbformat_minor": 4
}
