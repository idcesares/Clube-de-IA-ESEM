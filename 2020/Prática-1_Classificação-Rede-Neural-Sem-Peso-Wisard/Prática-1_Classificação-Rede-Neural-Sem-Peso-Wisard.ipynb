{
 "cells": [
  {
   "cell_type": "markdown",
   "metadata": {
    "colab_type": "text",
    "id": "c1D6Mlqy0gW_"
   },
   "source": [
    "Nesta atividade você irá:\n",
    "* 01. Instalar a Wisard\n",
    "* 02. Importar a Wisard \n",
    "* 03. Inserir os Rótulos de Treino e seus respectivos vetores\n",
    "* 04. Definir o número de endereços de cada neurônio\n",
    "* 05. Treinar a Wisard\n",
    "* 06. Inserir os Rótulos de Teste e seus respectivos vetores\n",
    "* 07. Classificar os rótulos de teste\n",
    "* 08. Escrever os resultados da classificação"
   ]
  },
  {
   "cell_type": "markdown",
   "metadata": {
    "colab_type": "text",
    "id": "9Ls4ucPawLuY"
   },
   "source": [
    "PRIMEIRA CÉLULA: **INSTALANDO A WISARD**"
   ]
  },
  {
   "cell_type": "markdown",
   "metadata": {
    "colab_type": "text",
    "id": "9EdeTqYpFc7k"
   },
   "source": []
  },
  {
   "cell_type": "code",
   "execution_count": null,
   "metadata": {
    "colab": {
     "base_uri": "https://localhost:8080/",
     "height": 51
    },
    "colab_type": "code",
    "id": "g_fDL-ApciVJ",
    "outputId": "9d2ae2a1-c469-4442-c7a1-806ad3b6d69d"
   },
   "outputs": [],
   "source": [
    "pip install wisardpkg"
   ]
  },
  {
   "cell_type": "markdown",
   "metadata": {
    "colab_type": "text",
    "id": "_czxiKl8wU6k"
   },
   "source": [
    "SEGUNDA CÉLULA: **IMPORTANDO A WISARD**"
   ]
  },
  {
   "cell_type": "code",
   "execution_count": null,
   "metadata": {
    "colab": {},
    "colab_type": "code",
    "id": "kpnRWT3ul9wg"
   },
   "outputs": [],
   "source": [
    "import wisardpkg as wsd"
   ]
  },
  {
   "cell_type": "markdown",
   "metadata": {
    "colab_type": "text",
    "id": "PNjMY5vSwbMS"
   },
   "source": [
    "TERCEIRA CÉLULA: **INSERINDO OS RÓTULOS DE TREINO E SEUS RESPECTIVOS VETORES**"
   ]
  },
  {
   "cell_type": "code",
   "execution_count": null,
   "metadata": {
    "colab": {},
    "colab_type": "code",
    "id": "MPXkTQyimIa1"
   },
   "outputs": [],
   "source": [
    "y = [\"Porco\", \"Porco\", \"Porco\", \"Cachorro\", \"Cachorro\", \"Cachorro\"]\n",
    "\n",
    "X = [ [1,1,1,1],\n",
    "      [0,1,1,1],\n",
    "      [1,1,0,0],\n",
    "      [0,0,0,0],\n",
    "      [1,0,0,1],\n",
    "      [0,0,1,1],\n",
    "    ]"
   ]
  },
  {
   "cell_type": "markdown",
   "metadata": {
    "colab_type": "text",
    "id": "4MaMZrmaxkt5"
   },
   "source": [
    "QUARTA CÉLULA: **DEFINIR O NÚMERO DE ENDEREÇOS *i* DE CADA NEURÔNIO**"
   ]
  },
  {
   "cell_type": "code",
   "execution_count": null,
   "metadata": {
    "colab": {},
    "colab_type": "code",
    "id": "OOMqVCH8wn84"
   },
   "outputs": [],
   "source": [
    "tamanhodoendereco = 4  \n",
    "\n",
    "ignoreozero = False \n",
    "\n",
    "verbose = True  \n",
    "\n",
    "wsd = wsd.Wisard(tamanhodoendereco, ignoreozero=ignoreozero, verbose=verbose)"
   ]
  },
  {
   "cell_type": "markdown",
   "metadata": {
    "colab_type": "text",
    "id": "r_yxgovrx_BW"
   },
   "source": [
    "QUINTA CÉLULA: **TREINANDO A WISARD** Observe que a ordem é X - Vetores e y - Rótulos"
   ]
  },
  {
   "cell_type": "code",
   "execution_count": null,
   "metadata": {
    "colab": {},
    "colab_type": "code",
    "id": "tK6BX7eCwytb"
   },
   "outputs": [],
   "source": [
    "wsd.train(X,y)"
   ]
  },
  {
   "cell_type": "markdown",
   "metadata": {
    "colab_type": "text",
    "id": "HCdIqor9whR6"
   },
   "source": [
    "SEXTA CÉLULA: **INSERINDO OS RÓTULOS DE TESTE E SEUS RESPECTIVOS VETORES**"
   ]
  },
  {
   "cell_type": "code",
   "execution_count": null,
   "metadata": {
    "colab": {},
    "colab_type": "code",
    "id": "xuuEmcbxvnXr"
   },
   "outputs": [],
   "source": [
    "Z = [\n",
    "      [1,1,1,0],\n",
    "    ]"
   ]
  },
  {
   "cell_type": "markdown",
   "metadata": {
    "colab_type": "text",
    "id": "Oxzvrfki1O7w"
   },
   "source": [
    "SÉTIMA CÉLULA: **CLASSIFICANDO OS RÓTULOS DE TESTE**"
   ]
  },
  {
   "cell_type": "code",
   "execution_count": null,
   "metadata": {
    "colab": {},
    "colab_type": "code",
    "id": "LRKB5tyL1brw"
   },
   "outputs": [],
   "source": [
    "out = wsd.classify(Z)"
   ]
  },
  {
   "cell_type": "markdown",
   "metadata": {
    "colab_type": "text",
    "id": "S6O1wyrK1__c"
   },
   "source": [
    "OITAVA CÉLULA: **ESCREVENDO O RESULTADO DA CLASSIFICAÇÃO**"
   ]
  },
  {
   "cell_type": "code",
   "execution_count": null,
   "metadata": {
    "colab": {
     "base_uri": "https://localhost:8080/",
     "height": 34
    },
    "colab_type": "code",
    "id": "kbycovHA1vrx",
    "outputId": "c5b7ac97-9c8c-4ba0-d441-e948419290ff"
   },
   "outputs": [],
   "source": [
    "for i,d in enumerate(Z):\n",
    "  print(out[i],d)"
   ]
  }
 ],
 "metadata": {
  "colab": {
   "collapsed_sections": [],
   "name": "Oficina 4 - Clube de IA",
   "provenance": []
  },
  "kernelspec": {
   "display_name": "Python 3",
   "language": "python",
   "name": "python3"
  },
  "language_info": {
   "codemirror_mode": {
    "name": "ipython",
    "version": 3
   },
   "file_extension": ".py",
   "mimetype": "text/x-python",
   "name": "python",
   "nbconvert_exporter": "python",
   "pygments_lexer": "ipython3",
   "version": "3.7.6"
  }
 },
 "nbformat": 4,
 "nbformat_minor": 1
}
